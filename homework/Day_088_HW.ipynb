{
 "cells": [
  {
   "cell_type": "markdown",
   "metadata": {},
   "source": [
    "# Work\n",
    "請嘗試寫一個 callback 用來記錄各類別在訓練過程中，對驗證集的 True Positive 與 True Negative"
   ]
  },
  {
   "cell_type": "code",
   "execution_count": 9,
   "metadata": {},
   "outputs": [],
   "source": [
    "import os\n",
    "import keras\n",
    "\n",
    "# Disable GPU\n",
    "os.environ[\"CUDA_VISIBLE_DEVICES\"] = \"\""
   ]
  },
  {
   "cell_type": "code",
   "execution_count": 10,
   "metadata": {},
   "outputs": [],
   "source": [
    "train, test = keras.datasets.cifar10.load_data()"
   ]
  },
  {
   "cell_type": "code",
   "execution_count": 11,
   "metadata": {},
   "outputs": [],
   "source": [
    "## 資料前處理\n",
    "def preproc_x(x, flatten=True):\n",
    "    x = x / 255.\n",
    "    if flatten:\n",
    "        x = x.reshape((len(x), -1))\n",
    "    return x\n",
    "\n",
    "def preproc_y(y, num_classes=10):\n",
    "    if y.shape[-1] == 1:\n",
    "        y = keras.utils.to_categorical(y, num_classes)\n",
    "    return y    "
   ]
  },
  {
   "cell_type": "code",
   "execution_count": 12,
   "metadata": {},
   "outputs": [],
   "source": [
    "x_train, y_train = train\n",
    "x_test, y_test = test\n",
    "\n",
    "# Preproc the inputs\n",
    "x_train = preproc_x(x_train)\n",
    "x_test = preproc_x(x_test)\n",
    "\n",
    "# Preprc the outputs\n",
    "y_train = preproc_y(y_train)\n",
    "y_test = preproc_y(y_test)"
   ]
  },
  {
   "cell_type": "code",
   "execution_count": 13,
   "metadata": {},
   "outputs": [],
   "source": [
    "from keras.layers import BatchNormalization\n",
    "\n",
    "\"\"\"\n",
    "建立神經網路，並加入 BN layer\n",
    "\"\"\"\n",
    "def build_mlp(input_shape, output_units=10, num_neurons=[512, 256, 128]):\n",
    "    input_layer = keras.layers.Input(input_shape)\n",
    "    \n",
    "    for i, n_units in enumerate(num_neurons):\n",
    "        if i == 0:\n",
    "            x = keras.layers.Dense(units=n_units, \n",
    "                                   activation=\"relu\", \n",
    "                                   name=\"hidden_layer\"+str(i+1))(input_layer)\n",
    "            x = BatchNormalization()(x)\n",
    "        else:\n",
    "            x = keras.layers.Dense(units=n_units, \n",
    "                                   activation=\"relu\", \n",
    "                                   name=\"hidden_layer\"+str(i+1))(x)\n",
    "            x = BatchNormalization()(x)\n",
    "    \n",
    "    out = keras.layers.Dense(units=output_units, activation=\"softmax\", name=\"output\")(x)\n",
    "    \n",
    "    model = keras.models.Model(inputs=[input_layer], outputs=[out])\n",
    "    return model"
   ]
  },
  {
   "cell_type": "code",
   "execution_count": 14,
   "metadata": {},
   "outputs": [],
   "source": [
    "## 超參數設定\n",
    "LEARNING_RATE = 1e-3\n",
    "EPOCHS = 25\n",
    "BATCH_SIZE = 1024\n",
    "MOMENTUM = 0.95"
   ]
  },
  {
   "cell_type": "code",
   "execution_count": 15,
   "metadata": {},
   "outputs": [],
   "source": [
    "\"\"\"\n",
    "# 載入 Callbacks，撰寫一個 f1 score 的 callback function\n",
    "\"\"\"\n",
    "from keras.callbacks import Callback\n",
    "import numpy as np\n",
    "\n",
    "# Record_fp_tp\n",
    "class Record_tp_tn(Callback):\n",
    "    \"\"\"Code Here\n",
    "    撰寫一個紀錄 ture positive 與 true negative 數量的 callbacks    \n",
    "    \"\"\"\n",
    "    \n",
    "    def on_train_begin(self, epoch, logs = {}):\n",
    "        logs = logs or {}\n",
    "        # 驗證集的 True Positive 與 True Negative\n",
    "        record_items = [\"val_tp\", \"val_tn\", \"val_fp\", \"val_fn\"]\n",
    "        for i in record_items:\n",
    "            if i not in self.params['metrics']:\n",
    "                self.params['metrics'].append(i)\n",
    "                \n",
    "    def on_epoch_end(self, epoch, logs = {}, thres=0.5):\n",
    "        logs = logs or {}\n",
    "        # Define y_true, y_pred\n",
    "        y_true = self.validation_data[1].argmax(axis = 1)\n",
    "        y_pred = self.model.predict(self.validation_data[0])\n",
    "        y_pred = (y_pred[:, 1] >= thres) * 1\n",
    "        # Calculate True Positive, True Negative\n",
    "        logs[\"val_tp\"] = np.sum(np.logical_and(y_pred == 1, y_true == 1))\n",
    "        logs[\"val_tn\"] = np.sum(np.logical_and(y_pred == 0, y_true == 0))\n",
    "        \n",
    "rec_tptn = Record_tp_tn()"
   ]
  },
  {
   "cell_type": "code",
   "execution_count": 16,
   "metadata": {},
   "outputs": [
    {
     "name": "stdout",
     "output_type": "stream",
     "text": [
      "Model: \"model_1\"\n",
      "_________________________________________________________________\n",
      "Layer (type)                 Output Shape              Param #   \n",
      "=================================================================\n",
      "input_1 (InputLayer)         (None, 3072)              0         \n",
      "_________________________________________________________________\n",
      "hidden_layer1 (Dense)        (None, 512)               1573376   \n",
      "_________________________________________________________________\n",
      "batch_normalization_1 (Batch (None, 512)               2048      \n",
      "_________________________________________________________________\n",
      "hidden_layer2 (Dense)        (None, 256)               131328    \n",
      "_________________________________________________________________\n",
      "batch_normalization_2 (Batch (None, 256)               1024      \n",
      "_________________________________________________________________\n",
      "hidden_layer3 (Dense)        (None, 128)               32896     \n",
      "_________________________________________________________________\n",
      "batch_normalization_3 (Batch (None, 128)               512       \n",
      "_________________________________________________________________\n",
      "output (Dense)               (None, 10)                1290      \n",
      "=================================================================\n",
      "Total params: 1,742,474\n",
      "Trainable params: 1,740,682\n",
      "Non-trainable params: 1,792\n",
      "_________________________________________________________________\n",
      "Train on 50000 samples, validate on 10000 samples\n",
      "Epoch 1/25\n",
      "50000/50000 [==============================] - 27s 547us/step - loss: 2.1779 - accuracy: 0.2701 - val_loss: 2.1579 - val_accuracy: 0.1858\n",
      "Epoch 2/25\n",
      "50000/50000 [==============================] - 21s 414us/step - loss: 1.7332 - accuracy: 0.3940 - val_loss: 1.9838 - val_accuracy: 0.2766\n",
      "Epoch 3/25\n",
      "50000/50000 [==============================] - 16s 328us/step - loss: 1.6138 - accuracy: 0.4350 - val_loss: 1.8306 - val_accuracy: 0.3550\n",
      "Epoch 4/25\n",
      "50000/50000 [==============================] - 15s 298us/step - loss: 1.5434 - accuracy: 0.4572 - val_loss: 1.7088 - val_accuracy: 0.4066\n",
      "Epoch 5/25\n",
      "50000/50000 [==============================] - 14s 289us/step - loss: 1.4903 - accuracy: 0.4778 - val_loss: 1.6271 - val_accuracy: 0.4386\n",
      "Epoch 6/25\n",
      "50000/50000 [==============================] - 14s 276us/step - loss: 1.4451 - accuracy: 0.4942 - val_loss: 1.5834 - val_accuracy: 0.4455\n",
      "Epoch 7/25\n",
      "50000/50000 [==============================] - 13s 259us/step - loss: 1.4069 - accuracy: 0.5060 - val_loss: 1.5364 - val_accuracy: 0.4587\n",
      "Epoch 8/25\n",
      "50000/50000 [==============================] - 12s 236us/step - loss: 1.3714 - accuracy: 0.5176 - val_loss: 1.5195 - val_accuracy: 0.4632\n",
      "Epoch 9/25\n",
      "50000/50000 [==============================] - 13s 255us/step - loss: 1.3403 - accuracy: 0.5303 - val_loss: 1.4972 - val_accuracy: 0.4715\n",
      "Epoch 10/25\n",
      "50000/50000 [==============================] - 13s 256us/step - loss: 1.3095 - accuracy: 0.5425 - val_loss: 1.4809 - val_accuracy: 0.4778\n",
      "Epoch 11/25\n",
      "50000/50000 [==============================] - 13s 254us/step - loss: 1.2803 - accuracy: 0.5553 - val_loss: 1.4629 - val_accuracy: 0.4809\n",
      "Epoch 12/25\n",
      "50000/50000 [==============================] - 15s 306us/step - loss: 1.2527 - accuracy: 0.5653 - val_loss: 1.4720 - val_accuracy: 0.4794\n",
      "Epoch 13/25\n",
      "50000/50000 [==============================] - 13s 263us/step - loss: 1.2288 - accuracy: 0.5732 - val_loss: 1.4588 - val_accuracy: 0.4858\n",
      "Epoch 14/25\n",
      "50000/50000 [==============================] - 14s 277us/step - loss: 1.2029 - accuracy: 0.5848 - val_loss: 1.4567 - val_accuracy: 0.4848\n",
      "Epoch 15/25\n",
      "50000/50000 [==============================] - 14s 274us/step - loss: 1.1797 - accuracy: 0.5936 - val_loss: 1.4488 - val_accuracy: 0.4926\n",
      "Epoch 16/25\n",
      "50000/50000 [==============================] - 14s 278us/step - loss: 1.1544 - accuracy: 0.6025 - val_loss: 1.4539 - val_accuracy: 0.4958\n",
      "Epoch 17/25\n",
      "50000/50000 [==============================] - 15s 303us/step - loss: 1.1303 - accuracy: 0.6125 - val_loss: 1.4450 - val_accuracy: 0.4945\n",
      "Epoch 18/25\n",
      "50000/50000 [==============================] - 16s 319us/step - loss: 1.1081 - accuracy: 0.6208 - val_loss: 1.4486 - val_accuracy: 0.4926\n",
      "Epoch 19/25\n",
      "50000/50000 [==============================] - 17s 341us/step - loss: 1.0860 - accuracy: 0.6279 - val_loss: 1.4513 - val_accuracy: 0.4906\n",
      "Epoch 20/25\n",
      "50000/50000 [==============================] - 13s 260us/step - loss: 1.0646 - accuracy: 0.6363 - val_loss: 1.4520 - val_accuracy: 0.4909\n",
      "Epoch 21/25\n",
      "50000/50000 [==============================] - 14s 285us/step - loss: 1.0440 - accuracy: 0.6432 - val_loss: 1.4464 - val_accuracy: 0.4952\n",
      "Epoch 22/25\n",
      "50000/50000 [==============================] - 12s 250us/step - loss: 1.0232 - accuracy: 0.6522 - val_loss: 1.4470 - val_accuracy: 0.5004\n",
      "Epoch 23/25\n",
      "50000/50000 [==============================] - 12s 243us/step - loss: 1.0003 - accuracy: 0.6593 - val_loss: 1.4718 - val_accuracy: 0.4948\n",
      "Epoch 24/25\n",
      "50000/50000 [==============================] - 15s 294us/step - loss: 0.9785 - accuracy: 0.6697 - val_loss: 1.4500 - val_accuracy: 0.4998\n",
      "Epoch 25/25\n",
      "50000/50000 [==============================] - 19s 380us/step - loss: 0.9604 - accuracy: 0.6759 - val_loss: 1.4560 - val_accuracy: 0.4950\n"
     ]
    }
   ],
   "source": [
    "# build model\n",
    "# fit\n",
    "\n",
    "# build model\n",
    "model = build_mlp(input_shape=x_train.shape[1:])\n",
    "model.summary()\n",
    "optimizer = keras.optimizers.SGD(lr=LEARNING_RATE, nesterov=True, momentum=MOMENTUM)\n",
    "# compile\n",
    "model.compile(loss=\"categorical_crossentropy\", metrics=[\"accuracy\"], optimizer=optimizer)\n",
    "\n",
    "\"\"\"Code Here\n",
    "將 callbacks 放入模型訓練流程中\n",
    "\"\"\"\n",
    "model.fit(x_train, y_train, \n",
    "          epochs=EPOCHS, \n",
    "          batch_size=BATCH_SIZE, \n",
    "          validation_data=(x_test, y_test), \n",
    "          shuffle=True,\n",
    "          callbacks=[rec_tptn]) # callbacks 紀錄 驗證集的 True Positive 與 True Negative\n",
    "\n",
    "\n",
    "# Collect results\n",
    "train_loss = model.history.history[\"loss\"]\n",
    "valid_loss = model.history.history[\"val_loss\"]\n",
    "train_acc = model.history.history[\"accuracy\"]\n",
    "valid_acc = model.history.history[\"val_accuracy\"]\n",
    "\n",
    "\"\"\"Code Here\n",
    "將 tp/tn 從訓練完的模型中取出\n",
    "\"\"\"\n",
    "valid_tp = model.history.history['val_tp']\n",
    "valid_tn = model.history.history['val_tn']"
   ]
  },
  {
   "cell_type": "code",
   "execution_count": 17,
   "metadata": {},
   "outputs": [
    {
     "data": {
      "image/png": "[encoded data removed]",
      "text/plain": [
       "<Figure size 432x288 with 1 Axes>"
      ]
     },
     "metadata": {
      "needs_background": "light"
     },
     "output_type": "display_data"
    },
    {
     "data": {
      "image/png": "[encoded data removed]",
      "text/plain": [
       "<Figure size 432x288 with 1 Axes>"
      ]
     },
     "metadata": {
      "needs_background": "light"
     },
     "output_type": "display_data"
    },
    {
     "data": {
      "image/png": "[encoded data removed]",
      "text/plain": [
       "<Figure size 432x288 with 1 Axes>"
      ]
     },
     "metadata": {
      "needs_background": "light"
     },
     "output_type": "display_data"
    }
   ],
   "source": [
    "import matplotlib.pyplot as plt\n",
    "%matplotlib inline\n",
    "\n",
    "plt.plot(range(len(train_loss)), train_loss, label=\"train loss\")\n",
    "plt.plot(range(len(valid_loss)), valid_loss, label=\"valid loss\")\n",
    "plt.legend()\n",
    "plt.title(\"Loss\")\n",
    "plt.show()\n",
    "\n",
    "plt.plot(range(len(train_acc)), train_acc, label=\"train accuracy\")\n",
    "plt.plot(range(len(valid_acc)), valid_acc, label=\"valid accuracy\")\n",
    "plt.legend()\n",
    "plt.title(\"Accuracy\")\n",
    "plt.show()\n",
    "\n",
    "plt.plot(range(len(valid_tp)), valid_tp, label=\"valid tp\", color=\"navy\")\n",
    "plt.plot(range(len(valid_tn)), valid_tn, label=\"valid tn\", color=\"red\")\n",
    "plt.legend()\n",
    "plt.title(\"True positives and True Negatives\")\n",
    "plt.show()"
   ]
  }
 ],
 "metadata": {
  "kernelspec": {
   "display_name": "Python 3",
   "language": "python",
   "name": "python3"
  },
  "language_info": {
   "codemirror_mode": {
    "name": "ipython",
    "version": 3
   },
   "file_extension": ".py",
   "mimetype": "text/x-python",
   "name": "python",
   "nbconvert_exporter": "python",
   "pygments_lexer": "ipython3",
   "version": "3.7.3"
  }
 },
 "nbformat": 4,
 "nbformat_minor": 2
}
