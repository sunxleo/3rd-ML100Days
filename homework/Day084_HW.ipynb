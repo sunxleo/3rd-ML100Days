{
 "cells": [
  {
   "cell_type": "markdown",
   "metadata": {},
   "source": [
    "## Work\n",
    "### 請結合前面的知識與程式碼，比較不同的 regularization 的組合對訓練的結果與影響：如 dropout, regularizers, batch-normalization 等"
   ]
  },
  {
   "cell_type": "code",
   "execution_count": 1,
   "metadata": {},
   "outputs": [
    {
     "name": "stderr",
     "output_type": "stream",
     "text": [
      "Using TensorFlow backend.\n"
     ]
    }
   ],
   "source": [
    "import os\n",
    "import keras\n",
    "import itertools\n",
    "# Disable GPU\n",
    "#os.environ[\"CUDA_VISIBLE_DEVICES\"] = \"\""
   ]
  },
  {
   "cell_type": "code",
   "execution_count": 2,
   "metadata": {},
   "outputs": [],
   "source": [
    "train, test = keras.datasets.cifar10.load_data()"
   ]
  },
  {
   "cell_type": "code",
   "execution_count": 3,
   "metadata": {},
   "outputs": [],
   "source": [
    "## 資料前處理\n",
    "def preproc_x(x, flatten=True):\n",
    "    x = x / 255.\n",
    "    if flatten:\n",
    "        x = x.reshape((len(x), -1))\n",
    "    return x\n",
    "\n",
    "def preproc_y(y, num_classes=10):\n",
    "    if y.shape[-1] == 1:\n",
    "        y = keras.utils.to_categorical(y, num_classes)\n",
    "    return y    "
   ]
  },
  {
   "cell_type": "code",
   "execution_count": 4,
   "metadata": {},
   "outputs": [],
   "source": [
    "x_train, y_train = train\n",
    "x_test, y_test = test\n",
    "\n",
    "# Preproc the inputs\n",
    "x_train = preproc_x(x_train)\n",
    "x_test = preproc_x(x_test)\n",
    "\n",
    "# Preprc the outputs\n",
    "y_train = preproc_y(y_train)\n",
    "y_test = preproc_y(y_test)"
   ]
  },
  {
   "cell_type": "code",
   "execution_count": 5,
   "metadata": {},
   "outputs": [],
   "source": [
    "from keras.layers import Dropout,BatchNormalization\n",
    "from keras.regularizers import l1, l2, l1_l2\n",
    "def build_mlp(input_shape, output_units=10, num_neurons=[512, 256, 128],l2_ratio=1e-4, drp_ratio=0.2):\n",
    "    input_layer = keras.layers.Input(input_shape)\n",
    "    \n",
    "    for i, n_units in enumerate(num_neurons):\n",
    "        if i == 0:\n",
    "            x = keras.layers.Dense(units=n_units, \n",
    "                                   activation=\"relu\", \n",
    "                                   name=\"hidden_layer\"+str(i+1),\n",
    "                                   kernel_regularizer=l2(l2_ratio))(input_layer)\n",
    "            x = Dropout(drp_ratio)(x)\n",
    "            x = BatchNormalization()(x)\n",
    "        else:\n",
    "            x = keras.layers.Dense(units=n_units, \n",
    "                                   activation=\"relu\", \n",
    "                                   name=\"hidden_layer\"+str(i+1),\n",
    "                                   kernel_regularizer=l2(l2_ratio))(x)\n",
    "            x = Dropout(drp_ratio)(x)\n",
    "            x = BatchNormalization()(x)\n",
    "    \n",
    "    out = keras.layers.Dense(units=output_units, activation=\"softmax\", name=\"output\")(x)\n",
    "    \n",
    "    model = keras.models.Model(inputs=[input_layer], outputs=[out])\n",
    "    return model"
   ]
  },
  {
   "cell_type": "code",
   "execution_count": 6,
   "metadata": {},
   "outputs": [],
   "source": [
    "LEARNING_RATE = 1e-3\n",
    "EPOCHS = 50\n",
    "BATCH_SIZE = 256\n",
    "MOMENTUM = 0.95\n",
    "L2_EXP = 1e-2\n",
    "Dropout_EXP = 0.25"
   ]
  },
  {
   "cell_type": "code",
   "execution_count": 7,
   "metadata": {
    "scrolled": true
   },
   "outputs": [
    {
     "name": "stdout",
     "output_type": "stream",
     "text": [
      "Model: \"model_1\"\n",
      "_________________________________________________________________\n",
      "Layer (type)                 Output Shape              Param #   \n",
      "=================================================================\n",
      "input_1 (InputLayer)         (None, 3072)              0         \n",
      "_________________________________________________________________\n",
      "hidden_layer1 (Dense)        (None, 512)               1573376   \n",
      "_________________________________________________________________\n",
      "dropout_1 (Dropout)          (None, 512)               0         \n",
      "_________________________________________________________________\n",
      "batch_normalization_1 (Batch (None, 512)               2048      \n",
      "_________________________________________________________________\n",
      "hidden_layer2 (Dense)        (None, 256)               131328    \n",
      "_________________________________________________________________\n",
      "dropout_2 (Dropout)          (None, 256)               0         \n",
      "_________________________________________________________________\n",
      "batch_normalization_2 (Batch (None, 256)               1024      \n",
      "_________________________________________________________________\n",
      "hidden_layer3 (Dense)        (None, 128)               32896     \n",
      "_________________________________________________________________\n",
      "dropout_3 (Dropout)          (None, 128)               0         \n",
      "_________________________________________________________________\n",
      "batch_normalization_3 (Batch (None, 128)               512       \n",
      "_________________________________________________________________\n",
      "output (Dense)               (None, 10)                1290      \n",
      "=================================================================\n",
      "Total params: 1,742,474\n",
      "Trainable params: 1,740,682\n",
      "Non-trainable params: 1,792\n",
      "_________________________________________________________________\n",
      "Train on 50000 samples, validate on 10000 samples\n",
      "Epoch 1/50\n",
      "50000/50000 [==============================] - 10s 205us/step - loss: 15.3516 - accuracy: 0.2298 - val_loss: 13.9126 - val_accuracy: 0.3270\n",
      "Epoch 2/50\n",
      "50000/50000 [==============================] - 10s 193us/step - loss: 13.1165 - accuracy: 0.3049 - val_loss: 12.1237 - val_accuracy: 0.3344\n",
      "Epoch 3/50\n",
      "50000/50000 [==============================] - 10s 194us/step - loss: 11.3759 - accuracy: 0.3432 - val_loss: 10.5077 - val_accuracy: 0.3891\n",
      "Epoch 4/50\n",
      "50000/50000 [==============================] - 10s 194us/step - loss: 9.9259 - accuracy: 0.3627 - val_loss: 9.2300 - val_accuracy: 0.3952\n",
      "Epoch 5/50\n",
      "50000/50000 [==============================] - 10s 195us/step - loss: 8.6949 - accuracy: 0.3817 - val_loss: 8.0561 - val_accuracy: 0.4202\n",
      "Epoch 6/50\n",
      "50000/50000 [==============================] - 10s 192us/step - loss: 7.6437 - accuracy: 0.3948 - val_loss: 7.1127 - val_accuracy: 0.4349\n",
      "Epoch 7/50\n",
      "50000/50000 [==============================] - 10s 193us/step - loss: 6.7626 - accuracy: 0.4009 - val_loss: 6.3318 - val_accuracy: 0.4060\n",
      "Epoch 8/50\n",
      "50000/50000 [==============================] - 10s 193us/step - loss: 6.0099 - accuracy: 0.4080 - val_loss: 5.5804 - val_accuracy: 0.4499\n",
      "Epoch 9/50\n",
      "50000/50000 [==============================] - 10s 194us/step - loss: 5.3662 - accuracy: 0.4196 - val_loss: 5.0638 - val_accuracy: 0.4296\n",
      "Epoch 10/50\n",
      "50000/50000 [==============================] - 10s 194us/step - loss: 4.8397 - accuracy: 0.4142 - val_loss: 4.5552 - val_accuracy: 0.4351\n",
      "Epoch 11/50\n",
      "50000/50000 [==============================] - 10s 194us/step - loss: 4.3635 - accuracy: 0.4209 - val_loss: 4.1244 - val_accuracy: 0.4353\n",
      "Epoch 12/50\n",
      "50000/50000 [==============================] - 10s 193us/step - loss: 3.9755 - accuracy: 0.4187 - val_loss: 3.8208 - val_accuracy: 0.4015\n",
      "Epoch 13/50\n",
      "50000/50000 [==============================] - 10s 194us/step - loss: 3.6425 - accuracy: 0.4173 - val_loss: 3.4571 - val_accuracy: 0.4362\n",
      "Epoch 14/50\n",
      "50000/50000 [==============================] - 10s 193us/step - loss: 3.3520 - accuracy: 0.4224 - val_loss: 3.1993 - val_accuracy: 0.4337\n",
      "Epoch 15/50\n",
      "50000/50000 [==============================] - 10s 193us/step - loss: 3.1144 - accuracy: 0.4192 - val_loss: 2.9542 - val_accuracy: 0.4353\n",
      "Epoch 16/50\n",
      "50000/50000 [==============================] - 10s 194us/step - loss: 2.8888 - accuracy: 0.4239 - val_loss: 2.7420 - val_accuracy: 0.4469\n",
      "Epoch 17/50\n",
      "50000/50000 [==============================] - 10s 194us/step - loss: 2.7073 - accuracy: 0.4272 - val_loss: 2.6364 - val_accuracy: 0.4169\n",
      "Epoch 18/50\n",
      "50000/50000 [==============================] - 10s 194us/step - loss: 2.5708 - accuracy: 0.4234 - val_loss: 2.4554 - val_accuracy: 0.4456\n",
      "Epoch 19/50\n",
      "50000/50000 [==============================] - 10s 193us/step - loss: 2.4250 - accuracy: 0.4283 - val_loss: 2.3268 - val_accuracy: 0.4411\n",
      "Epoch 20/50\n",
      "50000/50000 [==============================] - 10s 193us/step - loss: 2.3073 - accuracy: 0.4362 - val_loss: 2.2400 - val_accuracy: 0.4358\n",
      "Epoch 21/50\n",
      "50000/50000 [==============================] - 10s 193us/step - loss: 2.2030 - accuracy: 0.4355 - val_loss: 2.1244 - val_accuracy: 0.4473\n",
      "Epoch 22/50\n",
      "50000/50000 [==============================] - 10s 193us/step - loss: 2.1325 - accuracy: 0.4329 - val_loss: 2.0656 - val_accuracy: 0.4473\n",
      "Epoch 23/50\n",
      "50000/50000 [==============================] - 10s 193us/step - loss: 2.0688 - accuracy: 0.4337 - val_loss: 2.1600 - val_accuracy: 0.3853\n",
      "Epoch 24/50\n",
      "50000/50000 [==============================] - 10s 194us/step - loss: 2.0144 - accuracy: 0.4315 - val_loss: 2.0122 - val_accuracy: 0.4275\n",
      "Epoch 25/50\n",
      "50000/50000 [==============================] - 10s 193us/step - loss: 1.9545 - accuracy: 0.4364 - val_loss: 1.9557 - val_accuracy: 0.4377\n",
      "Epoch 26/50\n",
      "50000/50000 [==============================] - 10s 194us/step - loss: 1.9098 - accuracy: 0.4366 - val_loss: 1.8653 - val_accuracy: 0.4446\n",
      "Epoch 27/50\n",
      "50000/50000 [==============================] - 10s 193us/step - loss: 1.8569 - accuracy: 0.4409 - val_loss: 1.8494 - val_accuracy: 0.4359\n",
      "Epoch 28/50\n",
      "50000/50000 [==============================] - 10s 195us/step - loss: 1.8441 - accuracy: 0.4395 - val_loss: 1.8623 - val_accuracy: 0.4244\n",
      "Epoch 29/50\n",
      "50000/50000 [==============================] - 10s 197us/step - loss: 1.8329 - accuracy: 0.4324 - val_loss: 1.7316 - val_accuracy: 0.4659\n",
      "Epoch 30/50\n",
      "50000/50000 [==============================] - 10s 193us/step - loss: 1.8026 - accuracy: 0.4362 - val_loss: 1.7583 - val_accuracy: 0.4455\n",
      "Epoch 31/50\n",
      "50000/50000 [==============================] - 10s 194us/step - loss: 1.7763 - accuracy: 0.4380 - val_loss: 1.7599 - val_accuracy: 0.4362\n",
      "Epoch 32/50\n",
      "50000/50000 [==============================] - 10s 194us/step - loss: 1.7656 - accuracy: 0.4376 - val_loss: 1.8804 - val_accuracy: 0.3992\n",
      "Epoch 33/50\n",
      "50000/50000 [==============================] - 10s 194us/step - loss: 1.7393 - accuracy: 0.4412 - val_loss: 1.6708 - val_accuracy: 0.4590\n",
      "Epoch 34/50\n",
      "50000/50000 [==============================] - 10s 194us/step - loss: 1.7257 - accuracy: 0.4429 - val_loss: 1.6944 - val_accuracy: 0.4523\n",
      "Epoch 35/50\n",
      "50000/50000 [==============================] - 10s 193us/step - loss: 1.7090 - accuracy: 0.4442 - val_loss: 1.6278 - val_accuracy: 0.4675\n",
      "Epoch 36/50\n",
      "50000/50000 [==============================] - 10s 194us/step - loss: 1.6919 - accuracy: 0.4468 - val_loss: 1.6353 - val_accuracy: 0.4641\n",
      "Epoch 37/50\n",
      "50000/50000 [==============================] - 10s 194us/step - loss: 1.6792 - accuracy: 0.4483 - val_loss: 1.6584 - val_accuracy: 0.4611\n",
      "Epoch 38/50\n",
      "50000/50000 [==============================] - 10s 194us/step - loss: 1.6791 - accuracy: 0.4469 - val_loss: 1.6721 - val_accuracy: 0.4528\n",
      "Epoch 39/50\n",
      "50000/50000 [==============================] - 10s 194us/step - loss: 1.6636 - accuracy: 0.4521 - val_loss: 1.6916 - val_accuracy: 0.4285\n",
      "Epoch 40/50\n",
      "50000/50000 [==============================] - 10s 193us/step - loss: 1.6692 - accuracy: 0.4488 - val_loss: 1.7094 - val_accuracy: 0.4342\n",
      "Epoch 41/50\n",
      "50000/50000 [==============================] - 10s 194us/step - loss: 1.6647 - accuracy: 0.4506 - val_loss: 1.6359 - val_accuracy: 0.4563\n",
      "Epoch 42/50\n",
      "50000/50000 [==============================] - 10s 197us/step - loss: 1.6686 - accuracy: 0.4484 - val_loss: 1.7638 - val_accuracy: 0.4023\n",
      "Epoch 43/50\n"
     ]
    },
    {
     "name": "stdout",
     "output_type": "stream",
     "text": [
      "50000/50000 [==============================] - 10s 191us/step - loss: 1.6665 - accuracy: 0.4476 - val_loss: 1.6265 - val_accuracy: 0.4620\n",
      "Epoch 44/50\n",
      "50000/50000 [==============================] - 10s 191us/step - loss: 1.6505 - accuracy: 0.4511 - val_loss: 1.6386 - val_accuracy: 0.4454\n",
      "Epoch 45/50\n",
      "50000/50000 [==============================] - 10s 191us/step - loss: 1.6536 - accuracy: 0.4494 - val_loss: 1.6139 - val_accuracy: 0.4625\n",
      "Epoch 46/50\n",
      "50000/50000 [==============================] - 10s 191us/step - loss: 1.6493 - accuracy: 0.4499 - val_loss: 1.6720 - val_accuracy: 0.4468\n",
      "Epoch 47/50\n",
      "50000/50000 [==============================] - 10s 194us/step - loss: 1.6374 - accuracy: 0.4553 - val_loss: 1.6181 - val_accuracy: 0.4538\n",
      "Epoch 48/50\n",
      "50000/50000 [==============================] - 10s 193us/step - loss: 1.6392 - accuracy: 0.4527 - val_loss: 1.7127 - val_accuracy: 0.4201\n",
      "Epoch 49/50\n",
      "50000/50000 [==============================] - 10s 193us/step - loss: 1.6637 - accuracy: 0.4448 - val_loss: 1.6484 - val_accuracy: 0.4580\n",
      "Epoch 50/50\n",
      "50000/50000 [==============================] - 10s 192us/step - loss: 1.6713 - accuracy: 0.4419 - val_loss: 1.6144 - val_accuracy: 0.4583\n"
     ]
    }
   ],
   "source": [
    "results = {}\n",
    "model = build_mlp(input_shape=x_train.shape[1:], l2_ratio=L2_EXP, drp_ratio=Dropout_EXP)\n",
    "model.summary()\n",
    "optimizer = keras.optimizers.SGD(lr=LEARNING_RATE, nesterov=True, momentum=MOMENTUM)\n",
    "model.compile(loss=\"categorical_crossentropy\", metrics=[\"accuracy\"], optimizer=optimizer)\n",
    "\n",
    "model.fit(x_train, y_train, \n",
    "          epochs=EPOCHS, \n",
    "          batch_size=BATCH_SIZE, \n",
    "          validation_data=(x_test, y_test), \n",
    "          shuffle=True)\n",
    "\n",
    "# Collect results\n",
    "train_loss = model.history.history[\"loss\"]\n",
    "valid_loss = model.history.history[\"val_loss\"]\n",
    "train_acc = model.history.history[\"accuracy\"]\n",
    "valid_acc = model.history.history[\"val_accuracy\"]"
   ]
  },
  {
   "cell_type": "code",
   "execution_count": 8,
   "metadata": {},
   "outputs": [
    {
     "data": {
      "image/png": "[encoded data removed]",
      "text/plain": [
       "<Figure size 432x288 with 1 Axes>"
      ]
     },
     "metadata": {
      "needs_background": "light"
     },
     "output_type": "display_data"
    },
    {
     "data": {
      "image/png": "[encoded data removed]",
      "text/plain": [
       "<Figure size 432x288 with 1 Axes>"
      ]
     },
     "metadata": {
      "needs_background": "light"
     },
     "output_type": "display_data"
    }
   ],
   "source": [
    "import matplotlib.pyplot as plt\n",
    "%matplotlib inline\n",
    "\n",
    "plt.plot(range(len(train_loss)), train_loss, label=\"train loss\")\n",
    "plt.plot(range(len(valid_loss)), valid_loss, label=\"valid loss\")\n",
    "plt.legend()\n",
    "plt.title(\"Loss\")\n",
    "plt.show()\n",
    "\n",
    "plt.plot(range(len(train_acc)), train_acc, label=\"train accuracy\")\n",
    "plt.plot(range(len(valid_acc)), valid_acc, label=\"valid accuracy\")\n",
    "plt.legend()\n",
    "plt.title(\"Accuracy\")\n",
    "plt.show()"
   ]
  }
 ],
 "metadata": {
  "kernelspec": {
   "display_name": "Python 3",
   "language": "python",
   "name": "python3"
  },
  "language_info": {
   "codemirror_mode": {
    "name": "ipython",
    "version": 3
   },
   "file_extension": ".py",
   "mimetype": "text/x-python",
   "name": "python",
   "nbconvert_exporter": "python",
   "pygments_lexer": "ipython3",
   "version": "3.7.3"
  }
 },
 "nbformat": 4,
 "nbformat_minor": 2
}
