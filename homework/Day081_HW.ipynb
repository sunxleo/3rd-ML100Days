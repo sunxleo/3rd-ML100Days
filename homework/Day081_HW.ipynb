{
 "cells": [
  {
   "cell_type": "markdown",
   "metadata": {},
   "source": [
    "## Work\n",
    "1. 請比較使用 l1, l1_l2 及不同比例下的訓練結果"
   ]
  },
  {
   "cell_type": "code",
   "execution_count": 1,
   "metadata": {},
   "outputs": [
    {
     "name": "stderr",
     "output_type": "stream",
     "text": [
      "Using TensorFlow backend.\n"
     ]
    }
   ],
   "source": [
    "import os\n",
    "import keras\n",
    "\n",
    "# Disable GPU\n",
    "#os.environ[\"CUDA_VISIBLE_DEVICES\"] = \"\""
   ]
  },
  {
   "cell_type": "code",
   "execution_count": 2,
   "metadata": {},
   "outputs": [],
   "source": [
    "train, test = keras.datasets.cifar10.load_data()"
   ]
  },
  {
   "cell_type": "code",
   "execution_count": 3,
   "metadata": {},
   "outputs": [],
   "source": [
    "## 資料前處理\n",
    "def preproc_x(x, flatten=True):\n",
    "    x = x / 255.\n",
    "    if flatten:\n",
    "        x = x.reshape((len(x), -1))\n",
    "    return x\n",
    "\n",
    "def preproc_y(y, num_classes=10):\n",
    "    if y.shape[-1] == 1:\n",
    "        y = keras.utils.to_categorical(y, num_classes)\n",
    "    return y"
   ]
  },
  {
   "cell_type": "code",
   "execution_count": 4,
   "metadata": {},
   "outputs": [],
   "source": [
    "x_train, y_train = train\n",
    "x_test, y_test = test\n",
    "\n",
    "# Preproc the inputs\n",
    "x_train = preproc_x(x_train)\n",
    "x_test = preproc_x(x_test)\n",
    "\n",
    "# Preprc the outputs\n",
    "y_train = preproc_y(y_train)\n",
    "y_test = preproc_y(y_test)"
   ]
  },
  {
   "cell_type": "code",
   "execution_count": 5,
   "metadata": {},
   "outputs": [],
   "source": [
    "\n",
    "from keras.models import Sequential\n",
    "from keras.layers import Dense\n",
    "from keras.regularizers import l1_l2\n",
    "\n",
    "def build_mlp(input, output,l1_ratio, l2_ratio):\n",
    "    \"\"\"\n",
    "    Build your own model\n",
    "    \"\"\"\n",
    "    model = Sequential()\n",
    "    model.add(Dense(256,input_dim = input, activation='relu',kernel_regularizer=l1_l2(l1=l1_ratio, l2=l2_ratio)))\n",
    "    model.add(Dense(128,activation='relu', kernel_regularizer=l1_l2(l1=l1_ratio, l2=l2_ratio)))\n",
    "    model.add(Dense(64, activation='relu',kernel_regularizer=l1_l2(l1=l1_ratio, l2=l2_ratio)))\n",
    "    model.add(Dense(output, activation='softmax'))\n",
    "    return model"
   ]
  },
  {
   "cell_type": "code",
   "execution_count": 6,
   "metadata": {},
   "outputs": [],
   "source": [
    "LR =1e-3\n",
    "epochs = 10\n",
    "batch_size =256\n",
    "\n",
    "L1 = [1e-1, 1e-4, 1e-7, 1e-10]\n",
    "L2 = [1e-1, 1e-4, 1e-7, 1e-10]"
   ]
  },
  {
   "cell_type": "code",
   "execution_count": 7,
   "metadata": {
    "scrolled": true
   },
   "outputs": [
    {
     "name": "stdout",
     "output_type": "stream",
     "text": [
      "Model: \"sequential_1\"\n",
      "_________________________________________________________________\n",
      "Layer (type)                 Output Shape              Param #   \n",
      "=================================================================\n",
      "dense_1 (Dense)              (None, 256)               786688    \n",
      "_________________________________________________________________\n",
      "dense_2 (Dense)              (None, 128)               32896     \n",
      "_________________________________________________________________\n",
      "dense_3 (Dense)              (None, 64)                8256      \n",
      "_________________________________________________________________\n",
      "dense_4 (Dense)              (None, 10)                650       \n",
      "=================================================================\n",
      "Total params: 828,490\n",
      "Trainable params: 828,490\n",
      "Non-trainable params: 0\n",
      "_________________________________________________________________\n",
      "Train on 40000 samples, validate on 10000 samples\n",
      "Epoch 1/10\n",
      "40000/40000 [==============================] - 6s 155us/step - loss: 277.9294 - accuracy: 0.0991 - val_loss: 14.5362 - val_accuracy: 0.1003\n",
      "Epoch 2/10\n",
      "40000/40000 [==============================] - 5s 123us/step - loss: 12.6314 - accuracy: 0.0977 - val_loss: 12.3526 - val_accuracy: 0.0952\n",
      "Epoch 3/10\n",
      "40000/40000 [==============================] - 5s 123us/step - loss: 12.3152 - accuracy: 0.1002 - val_loss: 12.2638 - val_accuracy: 0.0952\n",
      "Epoch 4/10\n",
      "40000/40000 [==============================] - 5s 122us/step - loss: 12.2067 - accuracy: 0.0991 - val_loss: 12.2188 - val_accuracy: 0.0952\n",
      "Epoch 5/10\n",
      "40000/40000 [==============================] - 5s 122us/step - loss: 12.1330 - accuracy: 0.0970 - val_loss: 12.0576 - val_accuracy: 0.0952\n",
      "Epoch 6/10\n",
      "40000/40000 [==============================] - 5s 122us/step - loss: 12.0256 - accuracy: 0.1001 - val_loss: 12.0851 - val_accuracy: 0.0952\n",
      "Epoch 7/10\n",
      "40000/40000 [==============================] - 5s 122us/step - loss: 12.0027 - accuracy: 0.1005 - val_loss: 12.0615 - val_accuracy: 0.0952\n",
      "Epoch 8/10\n",
      "40000/40000 [==============================] - 5s 121us/step - loss: 12.0572 - accuracy: 0.1000 - val_loss: 11.9896 - val_accuracy: 0.0977\n",
      "Epoch 9/10\n",
      "40000/40000 [==============================] - 5s 121us/step - loss: 12.1032 - accuracy: 0.1006 - val_loss: 12.0174 - val_accuracy: 0.0952\n",
      "Epoch 10/10\n",
      "40000/40000 [==============================] - 5s 121us/step - loss: 12.1007 - accuracy: 0.0996 - val_loss: 12.0735 - val_accuracy: 0.0952\n",
      "Model: \"sequential_2\"\n",
      "_________________________________________________________________\n",
      "Layer (type)                 Output Shape              Param #   \n",
      "=================================================================\n",
      "dense_5 (Dense)              (None, 256)               786688    \n",
      "_________________________________________________________________\n",
      "dense_6 (Dense)              (None, 128)               32896     \n",
      "_________________________________________________________________\n",
      "dense_7 (Dense)              (None, 64)                8256      \n",
      "_________________________________________________________________\n",
      "dense_8 (Dense)              (None, 10)                650       \n",
      "=================================================================\n",
      "Total params: 828,490\n",
      "Trainable params: 828,490\n",
      "Non-trainable params: 0\n",
      "_________________________________________________________________\n",
      "Train on 40000 samples, validate on 10000 samples\n",
      "Epoch 1/10\n",
      "40000/40000 [==============================] - 5s 125us/step - loss: 3.0451 - accuracy: 0.2869 - val_loss: 2.5118 - val_accuracy: 0.3303\n",
      "Epoch 2/10\n",
      "40000/40000 [==============================] - 5s 121us/step - loss: 2.2651 - accuracy: 0.3632 - val_loss: 2.1762 - val_accuracy: 0.3626\n",
      "Epoch 3/10\n",
      "40000/40000 [==============================] - 5s 121us/step - loss: 2.0681 - accuracy: 0.3927 - val_loss: 2.0713 - val_accuracy: 0.3712\n",
      "Epoch 4/10\n",
      "40000/40000 [==============================] - 5s 121us/step - loss: 1.9895 - accuracy: 0.3972 - val_loss: 1.9748 - val_accuracy: 0.3976\n",
      "Epoch 5/10\n",
      "40000/40000 [==============================] - 5s 121us/step - loss: 1.9118 - accuracy: 0.4169 - val_loss: 1.9173 - val_accuracy: 0.4103\n",
      "Epoch 6/10\n",
      "40000/40000 [==============================] - 5s 121us/step - loss: 1.8564 - accuracy: 0.4261 - val_loss: 1.8458 - val_accuracy: 0.4262\n",
      "Epoch 7/10\n",
      "40000/40000 [==============================] - 5s 121us/step - loss: 1.8316 - accuracy: 0.4261 - val_loss: 1.8778 - val_accuracy: 0.4072\n",
      "Epoch 8/10\n",
      "40000/40000 [==============================] - 5s 121us/step - loss: 1.7982 - accuracy: 0.4334 - val_loss: 1.8385 - val_accuracy: 0.4198\n",
      "Epoch 9/10\n",
      "40000/40000 [==============================] - 5s 121us/step - loss: 1.7617 - accuracy: 0.4456 - val_loss: 1.7757 - val_accuracy: 0.4446\n",
      "Epoch 10/10\n",
      "40000/40000 [==============================] - 5s 121us/step - loss: 1.7287 - accuracy: 0.4539 - val_loss: 1.7797 - val_accuracy: 0.4351\n",
      "Model: \"sequential_3\"\n",
      "_________________________________________________________________\n",
      "Layer (type)                 Output Shape              Param #   \n",
      "=================================================================\n",
      "dense_9 (Dense)              (None, 256)               786688    \n",
      "_________________________________________________________________\n",
      "dense_10 (Dense)             (None, 128)               32896     \n",
      "_________________________________________________________________\n",
      "dense_11 (Dense)             (None, 64)                8256      \n",
      "_________________________________________________________________\n",
      "dense_12 (Dense)             (None, 10)                650       \n",
      "=================================================================\n",
      "Total params: 828,490\n",
      "Trainable params: 828,490\n",
      "Non-trainable params: 0\n",
      "_________________________________________________________________\n",
      "Train on 40000 samples, validate on 10000 samples\n",
      "Epoch 1/10\n",
      "40000/40000 [==============================] - 5s 125us/step - loss: 1.9568 - accuracy: 0.2907 - val_loss: 1.8285 - val_accuracy: 0.3463\n",
      "Epoch 2/10\n",
      "40000/40000 [==============================] - 5s 119us/step - loss: 1.7532 - accuracy: 0.3772 - val_loss: 1.7473 - val_accuracy: 0.3771\n",
      "Epoch 3/10\n",
      "40000/40000 [==============================] - 5s 121us/step - loss: 1.6636 - accuracy: 0.4081 - val_loss: 1.7307 - val_accuracy: 0.3857\n",
      "Epoch 4/10\n",
      "40000/40000 [==============================] - 5s 121us/step - loss: 1.6141 - accuracy: 0.4257 - val_loss: 1.6826 - val_accuracy: 0.4034\n",
      "Epoch 5/10\n",
      "40000/40000 [==============================] - 5s 121us/step - loss: 1.5625 - accuracy: 0.4407 - val_loss: 1.5967 - val_accuracy: 0.4365\n",
      "Epoch 6/10\n",
      "40000/40000 [==============================] - 5s 121us/step - loss: 1.5210 - accuracy: 0.4578 - val_loss: 1.5479 - val_accuracy: 0.4528\n",
      "Epoch 7/10\n",
      "40000/40000 [==============================] - 5s 122us/step - loss: 1.4898 - accuracy: 0.4695 - val_loss: 1.5875 - val_accuracy: 0.4382\n",
      "Epoch 8/10\n",
      "40000/40000 [==============================] - 5s 123us/step - loss: 1.4714 - accuracy: 0.4792 - val_loss: 1.5416 - val_accuracy: 0.4501\n",
      "Epoch 9/10\n",
      "40000/40000 [==============================] - 5s 122us/step - loss: 1.4449 - accuracy: 0.4857 - val_loss: 1.5411 - val_accuracy: 0.4628\n",
      "Epoch 10/10\n",
      "40000/40000 [==============================] - 5s 122us/step - loss: 1.4156 - accuracy: 0.4950 - val_loss: 1.5451 - val_accuracy: 0.4606\n",
      "Model: \"sequential_4\"\n",
      "_________________________________________________________________\n",
      "Layer (type)                 Output Shape              Param #   \n",
      "=================================================================\n",
      "dense_13 (Dense)             (None, 256)               786688    \n",
      "_________________________________________________________________\n",
      "dense_14 (Dense)             (None, 128)               32896     \n",
      "_________________________________________________________________\n",
      "dense_15 (Dense)             (None, 64)                8256      \n",
      "_________________________________________________________________\n",
      "dense_16 (Dense)             (None, 10)                650       \n",
      "=================================================================\n",
      "Total params: 828,490\n",
      "Trainable params: 828,490\n",
      "Non-trainable params: 0\n",
      "_________________________________________________________________\n",
      "Train on 40000 samples, validate on 10000 samples\n",
      "Epoch 1/10\n"
     ]
    },
    {
     "name": "stdout",
     "output_type": "stream",
     "text": [
      "40000/40000 [==============================] - 5s 125us/step - loss: 1.9729 - accuracy: 0.2883 - val_loss: 1.8349 - val_accuracy: 0.3510\n",
      "Epoch 2/10\n",
      "40000/40000 [==============================] - 5s 120us/step - loss: 1.7632 - accuracy: 0.3730 - val_loss: 1.7714 - val_accuracy: 0.3655\n",
      "Epoch 3/10\n",
      "40000/40000 [==============================] - 5s 122us/step - loss: 1.6860 - accuracy: 0.4010 - val_loss: 1.6915 - val_accuracy: 0.4011\n",
      "Epoch 4/10\n",
      "40000/40000 [==============================] - 5s 123us/step - loss: 1.6126 - accuracy: 0.4261 - val_loss: 1.6226 - val_accuracy: 0.4299\n",
      "Epoch 5/10\n",
      "40000/40000 [==============================] - 5s 121us/step - loss: 1.5609 - accuracy: 0.4444 - val_loss: 1.6016 - val_accuracy: 0.4354\n",
      "Epoch 6/10\n",
      "40000/40000 [==============================] - 5s 122us/step - loss: 1.5324 - accuracy: 0.4550 - val_loss: 1.5756 - val_accuracy: 0.4445\n",
      "Epoch 7/10\n",
      "40000/40000 [==============================] - 5s 121us/step - loss: 1.4925 - accuracy: 0.4708 - val_loss: 1.5344 - val_accuracy: 0.4551\n",
      "Epoch 8/10\n",
      "40000/40000 [==============================] - 5s 121us/step - loss: 1.4726 - accuracy: 0.4768 - val_loss: 1.5811 - val_accuracy: 0.4451\n",
      "Epoch 9/10\n",
      "40000/40000 [==============================] - 5s 122us/step - loss: 1.4378 - accuracy: 0.4872 - val_loss: 1.5650 - val_accuracy: 0.4495\n",
      "Epoch 10/10\n",
      "40000/40000 [==============================] - 5s 122us/step - loss: 1.4229 - accuracy: 0.4975 - val_loss: 1.5185 - val_accuracy: 0.4651\n"
     ]
    }
   ],
   "source": [
    "results = {}\n",
    "\"\"\"Code Here\n",
    "撰寫你的訓練流程並將結果用 dictionary 紀錄\n",
    "\"\"\"\n",
    "\n",
    "import itertools\n",
    "\n",
    "from keras.optimizers import Adam\n",
    "results = {}\n",
    "for l1, l2  in zip(L1, L2):\n",
    "    model = build_mlp(x_train.shape[1], y_train.shape[1],l1, l2)\n",
    "    model.summary()\n",
    "    model.compile(loss=\"categorical_crossentropy\", optimizer=Adam(lr=LR), metrics=[\"accuracy\"])\n",
    "    model.fit(x_train, y_train, \n",
    "              epochs=epochs, \n",
    "              batch_size=batch_size, \n",
    "              validation_split=0.2, \n",
    "              shuffle=True)\n",
    "    \n",
    "    # Collect results\n",
    "    train_loss = model.history.history[\"loss\"]\n",
    "    valid_loss = model.history.history[\"val_loss\"]\n",
    "    train_acc = model.history.history[\"accuracy\"]\n",
    "    valid_acc = model.history.history[\"val_accuracy\"]\n",
    "    \n",
    "    \n",
    "    results[l1] = {'train-loss': train_loss,'valid-loss': valid_loss, 'train-acc': train_acc, 'valid-acc': valid_acc}"
   ]
  },
  {
   "cell_type": "code",
   "execution_count": 8,
   "metadata": {},
   "outputs": [
    {
     "data": {
      "image/png": "[encoded data removed]",
      "text/plain": [
       "<Figure size 432x288 with 1 Axes>"
      ]
     },
     "metadata": {
      "needs_background": "light"
     },
     "output_type": "display_data"
    },
    {
     "data": {
      "image/png": "[encoded data removed]",
      "text/plain": [
       "<Figure size 576x432 with 1 Axes>"
      ]
     },
     "metadata": {
      "needs_background": "light"
     },
     "output_type": "display_data"
    }
   ],
   "source": [
    "import matplotlib.pyplot as plt\n",
    "%matplotlib inline\n",
    "\"\"\"Code Here\n",
    "將結果繪出\n",
    "\"\"\"\n",
    "import matplotlib.pyplot as plt\n",
    "%matplotlib inline\n",
    "\n",
    "\"\"\"\n",
    "將實驗結果繪出\n",
    "\"\"\"\n",
    "\n",
    "import matplotlib.pyplot as plt\n",
    "%matplotlib inline\n",
    "\"\"\"Code Here\n",
    "將結果繪出\n",
    "\"\"\"\n",
    "\n",
    "import matplotlib.pyplot as plt\n",
    "%matplotlib inline \n",
    "    \n",
    "#NUM_COLORS = len(results.keys())\n",
    "#cm = plt.get_cmap('gist_rainbow')\n",
    "#color_bar = [cm(1.*i/NUM_COLORS) for i in range(NUM_COLORS)]\n",
    "\n",
    "#plt.figure(figsize=(8,6))\n",
    "for i, j in enumerate(results.keys()):\n",
    "    plt.plot(range(len(results[j]['train-loss'])),results[j]['train-loss'], '-', label=j)\n",
    "    plt.plot(range(len(results[j]['valid-loss'])),results[j]['valid-loss'], '--', label=j)\n",
    "plt.title(\"Loss vs. l1-l2\")\n",
    "plt.legend(loc=4)\n",
    "plt.show()\n",
    "\n",
    "plt.figure(figsize=(8,6))\n",
    "for i, j in enumerate(results.keys()):\n",
    "    plt.plot(range(len(results[j]['train-acc'])),results[j]['train-acc'], '-', label=j)\n",
    "    plt.plot(range(len(results[j]['valid-acc'])),results[j]['valid-acc'], '--', label=j)\n",
    "plt.title(\"Accuracy vs. l1-l2\")\n",
    "plt.legend(loc=4)\n",
    "plt.show()"
   ]
  }
 ],
 "metadata": {
  "kernelspec": {
   "display_name": "Python 3",
   "language": "python",
   "name": "python3"
  },
  "language_info": {
   "codemirror_mode": {
    "name": "ipython",
    "version": 3
   },
   "file_extension": ".py",
   "mimetype": "text/x-python",
   "name": "python",
   "nbconvert_exporter": "python",
   "pygments_lexer": "ipython3",
   "version": "3.7.3"
  }
 },
 "nbformat": 4,
 "nbformat_minor": 2
}
