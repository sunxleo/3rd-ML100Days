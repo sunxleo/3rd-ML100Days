{
 "cells": [
  {
   "cell_type": "markdown",
   "metadata": {},
   "source": [
    "## Work\n",
    "1. 請嘗試將 preproc_x 替換成以每筆資料的 min/max 進行標準化至 -1 ~ 1 間，再進行訓練\n",
    "2. 請嘗試將 mlp 疊更深 (e.g 5~10 層)，進行訓練後觀察 learning curve 的走勢\n",
    "3. (optional) 請改用 GPU 進行訓練 (如果你有 GPU 的話)，比較使用 CPU 與 GPU 的訓練速度"
   ]
  },
  {
   "cell_type": "code",
   "execution_count": 1,
   "metadata": {},
   "outputs": [
    {
     "name": "stderr",
     "output_type": "stream",
     "text": [
      "Using TensorFlow backend.\n"
     ]
    }
   ],
   "source": [
    "## \n",
    "\"\"\"\n",
    "Your code here (optional)\n",
    "確認硬體資源\n",
    "\"\"\"\n",
    "\n",
    "import os\n",
    "import keras\n",
    "\n",
    "# 本範例不需使用 GPU, 將 GPU 設定為 \"無\"\n",
    "os.environ[\"CUDA_VISIBLE_DEVICES\"] = \"\""
   ]
  },
  {
   "cell_type": "code",
   "execution_count": 2,
   "metadata": {},
   "outputs": [],
   "source": [
    "train, test = keras.datasets.cifar10.load_data()"
   ]
  },
  {
   "cell_type": "code",
   "execution_count": 3,
   "metadata": {},
   "outputs": [],
   "source": [
    "## 資料前處理\n",
    "\"\"\"\n",
    "Your code here\n",
    "\"\"\"\n",
    "## 資料前處理 one hot\n",
    "def preproc_x(x, flatten=True):\n",
    "    x = x / 255.\n",
    "    if flatten:\n",
    "        x = x.reshape((len(x), -1))\n",
    "    return x\n",
    "\n",
    "def preproc_y(y, num_classes=10):\n",
    "    if y.shape[-1] == 1:\n",
    "        y = keras.utils.to_categorical(y, num_classes)\n",
    "    return y"
   ]
  },
  {
   "cell_type": "code",
   "execution_count": 4,
   "metadata": {},
   "outputs": [],
   "source": [
    "x_train, y_train = train\n",
    "x_test, y_test = test\n",
    "\n",
    "# 資料前處理 - X 標準化\n",
    "x_train = preproc_x(x_train)\n",
    "x_test = preproc_x(x_test)\n",
    "\n",
    "# 資料前處理 -Y 轉成 onehot\n",
    "y_train = preproc_y(y_train)\n",
    "y_test = preproc_y(y_test)"
   ]
  },
  {
   "cell_type": "code",
   "execution_count": 5,
   "metadata": {},
   "outputs": [
    {
     "name": "stdout",
     "output_type": "stream",
     "text": [
      "Model: \"model_1\"\n",
      "_________________________________________________________________\n",
      "Layer (type)                 Output Shape              Param #   \n",
      "=================================================================\n",
      "input_1 (InputLayer)         (None, 3072)              0         \n",
      "_________________________________________________________________\n",
      "hidden_layer1 (Dense)        (None, 512)               1573376   \n",
      "_________________________________________________________________\n",
      "hidden_layer2 (Dense)        (None, 256)               131328    \n",
      "_________________________________________________________________\n",
      "hidden_layer3 (Dense)        (None, 128)               32896     \n",
      "_________________________________________________________________\n",
      "output (Dense)               (None, 10)                1290      \n",
      "=================================================================\n",
      "Total params: 1,738,890\n",
      "Trainable params: 1,738,890\n",
      "Non-trainable params: 0\n",
      "_________________________________________________________________\n"
     ]
    }
   ],
   "source": [
    "\"\"\"Code Here\n",
    "建立你的神經網路\n",
    "\"\"\"\n",
    "\n",
    "def build_mlp(input_shape=5, output_units=10, num_neurons=[512, 256, 128]):\n",
    "    input_layer = keras.layers.Input(input_shape)\n",
    "    \n",
    "    for i, n_units in enumerate(num_neurons):\n",
    "        if i == 0:\n",
    "            x = keras.layers.Dense(units=n_units, activation=\"relu\", name=\"hidden_layer\"+str(i+1))(input_layer)\n",
    "        else:\n",
    "            x = keras.layers.Dense(units=n_units, activation=\"relu\", name=\"hidden_layer\"+str(i+1))(x)\n",
    "    \n",
    "    out = keras.layers.Dense(units=output_units, activation=\"softmax\", name=\"output\")(x)\n",
    "    \n",
    "    model = keras.models.Model(inputs=[input_layer], outputs=[out])\n",
    "    return model\n",
    "model = build_mlp(input_shape=x_train.shape[1:])\n",
    "model.summary()"
   ]
  },
  {
   "cell_type": "code",
   "execution_count": 6,
   "metadata": {},
   "outputs": [],
   "source": [
    "## 超參數設定\n",
    "LEARNING_RATE = 0.001\n",
    "EPOCHS = 100\n",
    "BATCH_SIZE = 256"
   ]
  },
  {
   "cell_type": "code",
   "execution_count": 7,
   "metadata": {},
   "outputs": [],
   "source": [
    "optimizer = keras.optimizers.Adam(lr=LEARNING_RATE)\n",
    "model.compile(loss=\"categorical_crossentropy\", metrics=[\"accuracy\"], optimizer=optimizer)"
   ]
  },
  {
   "cell_type": "code",
   "execution_count": 8,
   "metadata": {},
   "outputs": [
    {
     "name": "stdout",
     "output_type": "stream",
     "text": [
      "Train on 50000 samples, validate on 10000 samples\n",
      "Epoch 1/100\n",
      "50000/50000 [==============================] - 9s 182us/step - loss: 1.9389 - accuracy: 0.3048 - val_loss: 1.7837 - val_accuracy: 0.3542\n",
      "Epoch 2/100\n",
      "50000/50000 [==============================] - 9s 182us/step - loss: 1.7173 - accuracy: 0.3825 - val_loss: 1.6879 - val_accuracy: 0.3940\n",
      "Epoch 3/100\n",
      "50000/50000 [==============================] - 9s 177us/step - loss: 1.6288 - accuracy: 0.4173 - val_loss: 1.6516 - val_accuracy: 0.3989\n",
      "Epoch 4/100\n",
      "50000/50000 [==============================] - 9s 178us/step - loss: 1.5596 - accuracy: 0.4437 - val_loss: 1.5184 - val_accuracy: 0.4623\n",
      "Epoch 5/100\n",
      "50000/50000 [==============================] - 9s 179us/step - loss: 1.5079 - accuracy: 0.4645 - val_loss: 1.5328 - val_accuracy: 0.4549\n",
      "Epoch 6/100\n",
      "50000/50000 [==============================] - 9s 177us/step - loss: 1.4729 - accuracy: 0.4754 - val_loss: 1.5378 - val_accuracy: 0.4487\n",
      "Epoch 7/100\n",
      "50000/50000 [==============================] - 9s 176us/step - loss: 1.4397 - accuracy: 0.4868 - val_loss: 1.4939 - val_accuracy: 0.4648\n",
      "Epoch 8/100\n",
      "50000/50000 [==============================] - 9s 177us/step - loss: 1.4049 - accuracy: 0.5014 - val_loss: 1.4198 - val_accuracy: 0.4995\n",
      "Epoch 9/100\n",
      "50000/50000 [==============================] - 9s 176us/step - loss: 1.3755 - accuracy: 0.5094 - val_loss: 1.4338 - val_accuracy: 0.4874\n",
      "Epoch 10/100\n",
      "50000/50000 [==============================] - 9s 180us/step - loss: 1.3552 - accuracy: 0.5179 - val_loss: 1.4369 - val_accuracy: 0.4878\n",
      "Epoch 11/100\n",
      "50000/50000 [==============================] - 9s 177us/step - loss: 1.3366 - accuracy: 0.5234 - val_loss: 1.4286 - val_accuracy: 0.4964\n",
      "Epoch 12/100\n",
      "50000/50000 [==============================] - 9s 177us/step - loss: 1.2989 - accuracy: 0.5377 - val_loss: 1.3706 - val_accuracy: 0.5119\n",
      "Epoch 13/100\n",
      "50000/50000 [==============================] - 9s 176us/step - loss: 1.2844 - accuracy: 0.5441 - val_loss: 1.4301 - val_accuracy: 0.4890\n",
      "Epoch 14/100\n",
      "50000/50000 [==============================] - 9s 177us/step - loss: 1.2543 - accuracy: 0.5523 - val_loss: 1.3772 - val_accuracy: 0.5083\n",
      "Epoch 15/100\n",
      "50000/50000 [==============================] - 9s 177us/step - loss: 1.2339 - accuracy: 0.5599 - val_loss: 1.3653 - val_accuracy: 0.5132\n",
      "Epoch 16/100\n",
      "50000/50000 [==============================] - 9s 177us/step - loss: 1.2089 - accuracy: 0.5696 - val_loss: 1.3512 - val_accuracy: 0.5220\n",
      "Epoch 17/100\n",
      "50000/50000 [==============================] - 9s 179us/step - loss: 1.1850 - accuracy: 0.5810 - val_loss: 1.3543 - val_accuracy: 0.5217\n",
      "Epoch 18/100\n",
      "50000/50000 [==============================] - 9s 176us/step - loss: 1.1710 - accuracy: 0.5841 - val_loss: 1.3537 - val_accuracy: 0.5214\n",
      "Epoch 19/100\n",
      "50000/50000 [==============================] - 9s 177us/step - loss: 1.1423 - accuracy: 0.5927 - val_loss: 1.3528 - val_accuracy: 0.5253\n",
      "Epoch 20/100\n",
      "50000/50000 [==============================] - 9s 177us/step - loss: 1.1388 - accuracy: 0.5946 - val_loss: 1.3760 - val_accuracy: 0.5202\n",
      "Epoch 21/100\n",
      "50000/50000 [==============================] - 9s 177us/step - loss: 1.1067 - accuracy: 0.6048 - val_loss: 1.4062 - val_accuracy: 0.5087\n",
      "Epoch 22/100\n",
      "50000/50000 [==============================] - 9s 177us/step - loss: 1.0938 - accuracy: 0.6107 - val_loss: 1.3704 - val_accuracy: 0.5247\n",
      "Epoch 23/100\n",
      "50000/50000 [==============================] - 9s 177us/step - loss: 1.0760 - accuracy: 0.6179 - val_loss: 1.4344 - val_accuracy: 0.5053\n",
      "Epoch 24/100\n",
      "50000/50000 [==============================] - 9s 177us/step - loss: 1.0476 - accuracy: 0.6266 - val_loss: 1.4162 - val_accuracy: 0.5204\n",
      "Epoch 25/100\n",
      "50000/50000 [==============================] - 9s 178us/step - loss: 1.0332 - accuracy: 0.6333 - val_loss: 1.3821 - val_accuracy: 0.5239\n",
      "Epoch 26/100\n",
      "50000/50000 [==============================] - 9s 177us/step - loss: 1.0204 - accuracy: 0.6352 - val_loss: 1.3941 - val_accuracy: 0.5210\n",
      "Epoch 27/100\n",
      "50000/50000 [==============================] - 9s 176us/step - loss: 1.0063 - accuracy: 0.6394 - val_loss: 1.4167 - val_accuracy: 0.5176\n",
      "Epoch 28/100\n",
      "50000/50000 [==============================] - 9s 177us/step - loss: 0.9774 - accuracy: 0.6519 - val_loss: 1.3916 - val_accuracy: 0.5282\n",
      "Epoch 29/100\n",
      "50000/50000 [==============================] - 9s 178us/step - loss: 0.9605 - accuracy: 0.6560 - val_loss: 1.4274 - val_accuracy: 0.5248\n",
      "Epoch 30/100\n",
      "50000/50000 [==============================] - 9s 177us/step - loss: 0.9559 - accuracy: 0.6592 - val_loss: 1.4100 - val_accuracy: 0.5263\n",
      "Epoch 31/100\n",
      "50000/50000 [==============================] - 9s 177us/step - loss: 0.9313 - accuracy: 0.6690 - val_loss: 1.5141 - val_accuracy: 0.5007\n",
      "Epoch 32/100\n",
      "50000/50000 [==============================] - 9s 180us/step - loss: 0.9205 - accuracy: 0.6707 - val_loss: 1.5007 - val_accuracy: 0.5151\n",
      "Epoch 33/100\n",
      "50000/50000 [==============================] - 9s 177us/step - loss: 0.8943 - accuracy: 0.6805 - val_loss: 1.5113 - val_accuracy: 0.5105\n",
      "Epoch 34/100\n",
      "50000/50000 [==============================] - 9s 177us/step - loss: 0.8788 - accuracy: 0.6857 - val_loss: 1.4595 - val_accuracy: 0.5234\n",
      "Epoch 35/100\n",
      "50000/50000 [==============================] - 9s 177us/step - loss: 0.8742 - accuracy: 0.6882 - val_loss: 1.5227 - val_accuracy: 0.5151\n",
      "Epoch 36/100\n",
      "50000/50000 [==============================] - 9s 179us/step - loss: 0.8528 - accuracy: 0.6927 - val_loss: 1.5114 - val_accuracy: 0.5234\n",
      "Epoch 37/100\n",
      "50000/50000 [==============================] - 9s 178us/step - loss: 0.8298 - accuracy: 0.7031 - val_loss: 1.4943 - val_accuracy: 0.5302\n",
      "Epoch 38/100\n",
      "50000/50000 [==============================] - 9s 178us/step - loss: 0.8214 - accuracy: 0.7077 - val_loss: 1.5422 - val_accuracy: 0.5142\n",
      "Epoch 39/100\n",
      "50000/50000 [==============================] - 9s 180us/step - loss: 0.8146 - accuracy: 0.7107 - val_loss: 1.5570 - val_accuracy: 0.5250\n",
      "Epoch 40/100\n",
      "50000/50000 [==============================] - 9s 178us/step - loss: 0.7924 - accuracy: 0.7170 - val_loss: 1.5725 - val_accuracy: 0.5191\n",
      "Epoch 41/100\n",
      "50000/50000 [==============================] - 9s 178us/step - loss: 0.7727 - accuracy: 0.7240 - val_loss: 1.5989 - val_accuracy: 0.5167\n",
      "Epoch 42/100\n",
      "50000/50000 [==============================] - 9s 179us/step - loss: 0.7596 - accuracy: 0.7290 - val_loss: 1.6218 - val_accuracy: 0.5169\n",
      "Epoch 43/100\n",
      "50000/50000 [==============================] - 9s 178us/step - loss: 0.7589 - accuracy: 0.7281 - val_loss: 1.5915 - val_accuracy: 0.5249\n",
      "Epoch 44/100\n",
      "50000/50000 [==============================] - 9s 178us/step - loss: 0.7432 - accuracy: 0.7344 - val_loss: 1.6049 - val_accuracy: 0.5274\n",
      "Epoch 45/100\n",
      "50000/50000 [==============================] - 9s 178us/step - loss: 0.7216 - accuracy: 0.7408 - val_loss: 1.6447 - val_accuracy: 0.5222\n",
      "Epoch 46/100\n",
      "50000/50000 [==============================] - 9s 179us/step - loss: 0.7050 - accuracy: 0.7495 - val_loss: 1.7287 - val_accuracy: 0.5043\n",
      "Epoch 47/100\n",
      "50000/50000 [==============================] - 9s 180us/step - loss: 0.7086 - accuracy: 0.7472 - val_loss: 1.6713 - val_accuracy: 0.5229\n",
      "Epoch 48/100\n",
      "50000/50000 [==============================] - 9s 178us/step - loss: 0.6750 - accuracy: 0.7587 - val_loss: 1.7282 - val_accuracy: 0.5110\n",
      "Epoch 49/100\n",
      "50000/50000 [==============================] - 9s 178us/step - loss: 0.6748 - accuracy: 0.7589 - val_loss: 1.7527 - val_accuracy: 0.5122\n",
      "Epoch 50/100\n",
      "50000/50000 [==============================] - 9s 178us/step - loss: 0.6588 - accuracy: 0.7656 - val_loss: 1.7664 - val_accuracy: 0.5113\n",
      "Epoch 51/100\n",
      "50000/50000 [==============================] - 9s 179us/step - loss: 0.6429 - accuracy: 0.7716 - val_loss: 1.7966 - val_accuracy: 0.5150\n",
      "Epoch 52/100\n",
      "50000/50000 [==============================] - 9s 178us/step - loss: 0.6391 - accuracy: 0.7696 - val_loss: 1.8456 - val_accuracy: 0.5090\n",
      "Epoch 53/100\n",
      "50000/50000 [==============================] - 9s 178us/step - loss: 0.6155 - accuracy: 0.7805 - val_loss: 1.8372 - val_accuracy: 0.5121\n",
      "Epoch 54/100\n",
      "50000/50000 [==============================] - 9s 180us/step - loss: 0.6112 - accuracy: 0.7819 - val_loss: 1.8457 - val_accuracy: 0.5033\n",
      "Epoch 55/100\n"
     ]
    },
    {
     "name": "stdout",
     "output_type": "stream",
     "text": [
      "50000/50000 [==============================] - 9s 175us/step - loss: 0.6069 - accuracy: 0.7841 - val_loss: 1.8657 - val_accuracy: 0.5158\n",
      "Epoch 56/100\n",
      "50000/50000 [==============================] - 9s 176us/step - loss: 0.6128 - accuracy: 0.7802 - val_loss: 1.9638 - val_accuracy: 0.4999\n",
      "Epoch 57/100\n",
      "50000/50000 [==============================] - 9s 175us/step - loss: 0.5941 - accuracy: 0.7878 - val_loss: 1.9138 - val_accuracy: 0.5168\n",
      "Epoch 58/100\n",
      "50000/50000 [==============================] - 9s 175us/step - loss: 0.5728 - accuracy: 0.7963 - val_loss: 1.9633 - val_accuracy: 0.5137\n",
      "Epoch 59/100\n",
      "50000/50000 [==============================] - 9s 175us/step - loss: 0.5650 - accuracy: 0.7981 - val_loss: 1.9931 - val_accuracy: 0.5021\n",
      "Epoch 60/100\n",
      "50000/50000 [==============================] - 9s 175us/step - loss: 0.5493 - accuracy: 0.8028 - val_loss: 1.9816 - val_accuracy: 0.5097\n",
      "Epoch 61/100\n",
      "50000/50000 [==============================] - 9s 176us/step - loss: 0.5526 - accuracy: 0.8025 - val_loss: 2.0745 - val_accuracy: 0.5050\n",
      "Epoch 62/100\n",
      "50000/50000 [==============================] - 9s 176us/step - loss: 0.5458 - accuracy: 0.8037 - val_loss: 2.0720 - val_accuracy: 0.5067\n",
      "Epoch 63/100\n",
      "50000/50000 [==============================] - 9s 175us/step - loss: 0.5279 - accuracy: 0.8093 - val_loss: 2.0885 - val_accuracy: 0.5121\n",
      "Epoch 64/100\n",
      "50000/50000 [==============================] - 9s 175us/step - loss: 0.5120 - accuracy: 0.8163 - val_loss: 2.1195 - val_accuracy: 0.5092\n",
      "Epoch 65/100\n",
      "50000/50000 [==============================] - 9s 175us/step - loss: 0.5215 - accuracy: 0.8140 - val_loss: 2.1825 - val_accuracy: 0.5109\n",
      "Epoch 66/100\n",
      "50000/50000 [==============================] - 9s 176us/step - loss: 0.5113 - accuracy: 0.8150 - val_loss: 2.1510 - val_accuracy: 0.5061\n",
      "Epoch 67/100\n",
      "50000/50000 [==============================] - 9s 176us/step - loss: 0.4905 - accuracy: 0.8257 - val_loss: 2.1965 - val_accuracy: 0.5089\n",
      "Epoch 68/100\n",
      "50000/50000 [==============================] - 9s 175us/step - loss: 0.4801 - accuracy: 0.8289 - val_loss: 2.2740 - val_accuracy: 0.5007\n",
      "Epoch 69/100\n",
      "50000/50000 [==============================] - 9s 179us/step - loss: 0.4800 - accuracy: 0.8281 - val_loss: 2.2242 - val_accuracy: 0.5130\n",
      "Epoch 70/100\n",
      "50000/50000 [==============================] - 9s 175us/step - loss: 0.4761 - accuracy: 0.8285 - val_loss: 2.2951 - val_accuracy: 0.5080\n",
      "Epoch 71/100\n",
      "50000/50000 [==============================] - 9s 176us/step - loss: 0.4622 - accuracy: 0.8350 - val_loss: 2.3151 - val_accuracy: 0.5027\n",
      "Epoch 72/100\n",
      "50000/50000 [==============================] - 9s 177us/step - loss: 0.4590 - accuracy: 0.8374 - val_loss: 2.2947 - val_accuracy: 0.5046\n",
      "Epoch 73/100\n",
      "50000/50000 [==============================] - 9s 177us/step - loss: 0.4753 - accuracy: 0.8291 - val_loss: 2.3939 - val_accuracy: 0.4946\n",
      "Epoch 74/100\n",
      "50000/50000 [==============================] - 9s 176us/step - loss: 0.4422 - accuracy: 0.8412 - val_loss: 2.3987 - val_accuracy: 0.5097\n",
      "Epoch 75/100\n",
      "50000/50000 [==============================] - 9s 175us/step - loss: 0.4187 - accuracy: 0.8482 - val_loss: 2.3924 - val_accuracy: 0.5094\n",
      "Epoch 76/100\n",
      "50000/50000 [==============================] - 9s 177us/step - loss: 0.4250 - accuracy: 0.8461 - val_loss: 2.4697 - val_accuracy: 0.5032\n",
      "Epoch 77/100\n",
      "50000/50000 [==============================] - 9s 176us/step - loss: 0.4204 - accuracy: 0.8484 - val_loss: 2.4778 - val_accuracy: 0.5011\n",
      "Epoch 78/100\n",
      "50000/50000 [==============================] - 9s 176us/step - loss: 0.4197 - accuracy: 0.8477 - val_loss: 2.5729 - val_accuracy: 0.4988\n",
      "Epoch 79/100\n",
      "50000/50000 [==============================] - 9s 175us/step - loss: 0.4113 - accuracy: 0.8518 - val_loss: 2.5345 - val_accuracy: 0.5053\n",
      "Epoch 80/100\n",
      "50000/50000 [==============================] - 9s 176us/step - loss: 0.4004 - accuracy: 0.8567 - val_loss: 2.5421 - val_accuracy: 0.5065\n",
      "Epoch 81/100\n",
      "50000/50000 [==============================] - 9s 177us/step - loss: 0.4070 - accuracy: 0.8527 - val_loss: 2.6337 - val_accuracy: 0.4994\n",
      "Epoch 82/100\n",
      "50000/50000 [==============================] - 9s 175us/step - loss: 0.3803 - accuracy: 0.8639 - val_loss: 2.6441 - val_accuracy: 0.5002\n",
      "Epoch 83/100\n",
      "50000/50000 [==============================] - 9s 176us/step - loss: 0.4031 - accuracy: 0.8565 - val_loss: 2.6741 - val_accuracy: 0.4985\n",
      "Epoch 84/100\n",
      "50000/50000 [==============================] - 9s 178us/step - loss: 0.3735 - accuracy: 0.8665 - val_loss: 2.7215 - val_accuracy: 0.4987\n",
      "Epoch 85/100\n",
      "50000/50000 [==============================] - 9s 175us/step - loss: 0.3909 - accuracy: 0.8581 - val_loss: 2.6975 - val_accuracy: 0.5016\n",
      "Epoch 86/100\n",
      "50000/50000 [==============================] - 9s 176us/step - loss: 0.3842 - accuracy: 0.8616 - val_loss: 2.7928 - val_accuracy: 0.5049\n",
      "Epoch 87/100\n",
      "50000/50000 [==============================] - 9s 176us/step - loss: 0.3833 - accuracy: 0.8611 - val_loss: 2.6855 - val_accuracy: 0.5098\n",
      "Epoch 88/100\n",
      "50000/50000 [==============================] - 9s 176us/step - loss: 0.3632 - accuracy: 0.8700 - val_loss: 2.8715 - val_accuracy: 0.5016\n",
      "Epoch 89/100\n",
      "50000/50000 [==============================] - 9s 176us/step - loss: 0.3540 - accuracy: 0.8713 - val_loss: 2.8064 - val_accuracy: 0.5053\n",
      "Epoch 90/100\n",
      "50000/50000 [==============================] - 9s 176us/step - loss: 0.3515 - accuracy: 0.8742 - val_loss: 2.8466 - val_accuracy: 0.4936\n",
      "Epoch 91/100\n",
      "50000/50000 [==============================] - 9s 178us/step - loss: 0.3393 - accuracy: 0.8776 - val_loss: 2.9207 - val_accuracy: 0.4998\n",
      "Epoch 92/100\n",
      "50000/50000 [==============================] - 9s 176us/step - loss: 0.3247 - accuracy: 0.8842 - val_loss: 2.9222 - val_accuracy: 0.5075\n",
      "Epoch 93/100\n",
      "50000/50000 [==============================] - 9s 176us/step - loss: 0.3386 - accuracy: 0.8789 - val_loss: 3.0000 - val_accuracy: 0.5006\n",
      "Epoch 94/100\n",
      "50000/50000 [==============================] - 9s 176us/step - loss: 0.3336 - accuracy: 0.8791 - val_loss: 2.9631 - val_accuracy: 0.4944\n",
      "Epoch 95/100\n",
      "50000/50000 [==============================] - 9s 176us/step - loss: 0.3216 - accuracy: 0.8850 - val_loss: 3.0224 - val_accuracy: 0.5024\n",
      "Epoch 96/100\n",
      "50000/50000 [==============================] - 9s 177us/step - loss: 0.3424 - accuracy: 0.8767 - val_loss: 3.0537 - val_accuracy: 0.4991\n",
      "Epoch 97/100\n",
      "50000/50000 [==============================] - 9s 176us/step - loss: 0.3221 - accuracy: 0.8842 - val_loss: 3.1965 - val_accuracy: 0.4860\n",
      "Epoch 98/100\n",
      "50000/50000 [==============================] - 9s 176us/step - loss: 0.3110 - accuracy: 0.8889 - val_loss: 3.1336 - val_accuracy: 0.4888\n",
      "Epoch 99/100\n",
      "50000/50000 [==============================] - 9s 178us/step - loss: 0.3145 - accuracy: 0.8860 - val_loss: 3.1795 - val_accuracy: 0.4961\n",
      "Epoch 100/100\n",
      "50000/50000 [==============================] - 9s 176us/step - loss: 0.3100 - accuracy: 0.8890 - val_loss: 3.1530 - val_accuracy: 0.4938\n"
     ]
    },
    {
     "data": {
      "text/plain": [
       "<keras.callbacks.callbacks.History at 0x18895048>"
      ]
     },
     "execution_count": 8,
     "metadata": {},
     "output_type": "execute_result"
    }
   ],
   "source": [
    "model.fit(x_train, y_train, \n",
    "          epochs=EPOCHS, \n",
    "          batch_size=BATCH_SIZE, \n",
    "          validation_data=(x_test, y_test), \n",
    "          shuffle=True)"
   ]
  },
  {
   "cell_type": "code",
   "execution_count": 10,
   "metadata": {},
   "outputs": [
    {
     "data": {
      "image/png": "[encoded data removed]",
      "text/plain": [
       "<Figure size 432x288 with 1 Axes>"
      ]
     },
     "metadata": {
      "needs_background": "light"
     },
     "output_type": "display_data"
    },
    {
     "data": {
      "image/png": "[encoded data removed]",
      "text/plain": [
       "<Figure size 432x288 with 1 Axes>"
      ]
     },
     "metadata": {
      "needs_background": "light"
     },
     "output_type": "display_data"
    }
   ],
   "source": [
    "# 訓練模型並檢視驗證集的結果\n",
    "import matplotlib.pyplot as plt\n",
    "\n",
    "train_loss = model.history.history[\"loss\"]\n",
    "valid_loss = model.history.history[\"val_loss\"]\n",
    "\n",
    "train_acc = model.history.history[\"accuracy\"]\n",
    "valid_acc = model.history.history[\"val_accuracy\"]\n",
    "\n",
    "plt.plot(range(len(train_loss)), train_loss, label=\"train loss\")\n",
    "plt.plot(range(len(valid_loss)), valid_loss, label=\"valid loss\")\n",
    "plt.legend()\n",
    "plt.title(\"Loss\")\n",
    "plt.show()\n",
    "\n",
    "plt.plot(range(len(train_acc)), train_acc, label=\"train accuracy\")\n",
    "plt.plot(range(len(valid_acc)), valid_acc, label=\"valid accuracy\")\n",
    "plt.legend()\n",
    "plt.title(\"Accuracy\")\n",
    "plt.show()"
   ]
  },
  {
   "cell_type": "code",
   "execution_count": null,
   "metadata": {},
   "outputs": [],
   "source": []
  }
 ],
 "metadata": {
  "kernelspec": {
   "display_name": "Python 3",
   "language": "python",
   "name": "python3"
  },
  "language_info": {
   "codemirror_mode": {
    "name": "ipython",
    "version": 3
   },
   "file_extension": ".py",
   "mimetype": "text/x-python",
   "name": "python",
   "nbconvert_exporter": "python",
   "pygments_lexer": "ipython3",
   "version": "3.7.3"
  }
 },
 "nbformat": 4,
 "nbformat_minor": 2
}
